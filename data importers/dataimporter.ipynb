{
 "cells": [
  {
   "cell_type": "code",
   "execution_count": 7,
   "id": "2ad36e0d-7487-4eae-a174-022e8abe6e48",
   "metadata": {},
   "outputs": [
    {
     "name": "stderr",
     "output_type": "stream",
     "text": [
      "[*********************100%***********************]  1 of 1 completed"
     ]
    },
    {
     "name": "stdout",
     "output_type": "stream",
     "text": [
      "Price            Close        High         Low        Open   Volume\n",
      "Ticker             VYM         VYM         VYM         VYM      VYM\n",
      "Date                                                               \n",
      "2024-01-02  108.502792  108.811779  107.382710  107.402026  1739500\n",
      "2024-01-03  107.846184  108.464158  107.730311  108.396567  1607200\n",
      "2024-01-04  107.749634  108.551071  107.701359  108.000688  1329800\n",
      "2024-01-05  108.019997  108.502789  107.517888  107.778600  1195300\n",
      "2024-01-08  108.628311  108.628311  107.440638  107.894465  1233600\n"
     ]
    },
    {
     "name": "stderr",
     "output_type": "stream",
     "text": [
      "\n"
     ]
    }
   ],
   "source": [
    "import yfinance as yf\n",
    "import pandas as pd\n",
    "from datetime import datetime\n",
    "\n",
    "# Define the ticker symbol\n",
    "ticker = \"VYM\"\n",
    "\n",
    "# Define the start and end dates\n",
    "start_date = \"2024-01-01\"\n",
    "end_date = datetime.today().strftime('%Y-%m-%d') #gets today's date in yyyy-mm-dd format\n",
    "\n",
    "# Download the data\n",
    "data = yf.download(ticker, start=start_date, end=end_date)\n",
    "\n",
    "print(data.head())\n",
    "\n",
    "# if you want to save to a csv file.\n",
    "data.to_csv(\"vym data.csv\")"
   ]
  },
  {
   "cell_type": "code",
   "execution_count": null,
   "id": "4b22152a-737a-44f0-a94c-d2e23b4c21a3",
   "metadata": {},
   "outputs": [],
   "source": []
  },
  {
   "cell_type": "code",
   "execution_count": null,
   "id": "33f79635-a479-4634-810c-6662bbc78d47",
   "metadata": {},
   "outputs": [],
   "source": []
  }
 ],
 "metadata": {
  "kernelspec": {
   "display_name": "Python 3 (ipykernel)",
   "language": "python",
   "name": "python3"
  },
  "language_info": {
   "codemirror_mode": {
    "name": "ipython",
    "version": 3
   },
   "file_extension": ".py",
   "mimetype": "text/x-python",
   "name": "python",
   "nbconvert_exporter": "python",
   "pygments_lexer": "ipython3",
   "version": "3.12.2"
  }
 },
 "nbformat": 4,
 "nbformat_minor": 5
}
