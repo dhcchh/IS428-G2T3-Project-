{
 "cells": [
  {
   "cell_type": "code",
   "execution_count": 6,
   "id": "2ad36e0d-7487-4eae-a174-022e8abe6e48",
   "metadata": {},
   "outputs": [
    {
     "name": "stderr",
     "output_type": "stream",
     "text": [
      "[*********************100%***********************]  1 of 1 completed"
     ]
    },
    {
     "name": "stdout",
     "output_type": "stream",
     "text": [
      "Price            Close        High         Low        Open   Volume\n",
      "Ticker             VUG         VUG         VUG         VUG      VUG\n",
      "Date                                                               \n",
      "2020-01-02  178.768768  178.768768  177.124164  177.588535  1035800\n",
      "2020-01-03  177.540146  178.430167  176.427609  176.553378   909800\n",
      "2020-01-06  178.681702  178.759097  176.234141  176.388931   773700\n",
      "2020-01-07  178.623627  179.194398  178.217314  178.672000   848800\n",
      "2020-01-08  180.026382  180.761628  178.488195  178.701028   667200\n"
     ]
    },
    {
     "name": "stderr",
     "output_type": "stream",
     "text": [
      "\n"
     ]
    }
   ],
   "source": [
    "import yfinance as yf\n",
    "import pandas as pd\n",
    "from datetime import datetime\n",
    "\n",
    "# Define the ticker symbol\n",
    "ticker = \"VUG\"\n",
    "\n",
    "# Define the start and end dates\n",
    "start_date = \"2020-01-01\"\n",
    "end_date = datetime.today().strftime('%Y-%m-%d') #gets today's date in yyyy-mm-dd format\n",
    "\n",
    "# Download the data\n",
    "data = yf.download(ticker, start=start_date, end=end_date)\n",
    "\n",
    "print(data.head())\n",
    "\n",
    "# if you want to save to a csv file.\n",
    "data.to_csv(\"vug data.csv\")"
   ]
  },
  {
   "cell_type": "code",
   "execution_count": null,
   "id": "4b22152a-737a-44f0-a94c-d2e23b4c21a3",
   "metadata": {},
   "outputs": [],
   "source": []
  },
  {
   "cell_type": "code",
   "execution_count": null,
   "id": "33f79635-a479-4634-810c-6662bbc78d47",
   "metadata": {},
   "outputs": [],
   "source": []
  }
 ],
 "metadata": {
  "kernelspec": {
   "display_name": "Python 3 (ipykernel)",
   "language": "python",
   "name": "python3"
  },
  "language_info": {
   "codemirror_mode": {
    "name": "ipython",
    "version": 3
   },
   "file_extension": ".py",
   "mimetype": "text/x-python",
   "name": "python",
   "nbconvert_exporter": "python",
   "pygments_lexer": "ipython3",
   "version": "3.12.2"
  }
 },
 "nbformat": 4,
 "nbformat_minor": 5
}
