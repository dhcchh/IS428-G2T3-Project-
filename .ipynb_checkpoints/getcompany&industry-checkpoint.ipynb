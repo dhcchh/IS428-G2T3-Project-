{
 "cells": [
  {
   "cell_type": "code",
   "execution_count": 210,
   "metadata": {},
   "outputs": [
    {
     "name": "stdout",
     "output_type": "stream",
     "text": [
      "BND company weightings have been saved to 'BND_company_weightings.csv'.\n"
     ]
    },
    {
     "name": "stderr",
     "output_type": "stream",
     "text": [
      "/var/folders/wj/3c4wz2j94ldgr3jbcf57vpz00000gn/T/ipykernel_89792/1333869448.py:16: FutureWarning: Passing literal html to 'read_html' is deprecated and will be removed in a future version. To read from a literal string, wrap it in a 'StringIO' object.\n",
      "  tables = pd.read_html(response.text)\n"
     ]
    }
   ],
   "source": [
    "import pandas as pd\n",
    "import requests\n",
    "\n",
    "url = 'https://www.slickcharts.com/berkshire-hathaway'\n",
    "\n",
    "# Adding user-agent headers to imitate a real browser\n",
    "headers = {\n",
    "    'User-Agent': 'Mozilla/5.0 (Windows NT 10.0; Win64; x64) AppleWebKit/537.36 (KHTML, like Gecko) Chrome/58.0.3029.110 Safari/537.36'\n",
    "}\n",
    "\n",
    "# Send the request with headers\n",
    "response = requests.get(url, headers=headers)\n",
    "\n",
    "# Check if the request was successful\n",
    "if response.status_code == 200:\n",
    "    tables = pd.read_html(response.text)\n",
    "    df = tables[0]\n",
    "    df = df[['Company', 'Symbol', 'Portfolio%']]\n",
    "    df.to_csv('BRK-B_company_weightings.csv', index=False)\n",
    "    print(\"BRK- company weightings have been saved to 'BND_company_weightings.csv'.\")\n",
    "else:\n",
    "    print(f\"Failed to retrieve data: {response.status_code}\")\n"
   ]
  },
  {
   "cell_type": "code",
   "execution_count": 75,
   "metadata": {},
   "outputs": [
    {
     "name": "stdout",
     "output_type": "stream",
     "text": [
      "Sleeping for 30 seconds after processing rows 1 to 300\n",
      "Error for NCLH: Too Many Requests. Rate limited. Try after a while.\n",
      "CSV file with industries saved successfully.\n"
     ]
    }
   ],
   "source": [
    "import pandas as pd\n",
    "import yfinance as yf\n",
    "import time\n",
    "\n",
    "# Function to get the industry based on the symbol\n",
    "def get_industry(symbol):\n",
    "    try:\n",
    "        company = yf.Ticker(symbol)\n",
    "        industry = company.info.get('industry', 'Industry not available')\n",
    "        return industry\n",
    "    except Exception as e:\n",
    "        print(f\"Error for {symbol}: {e}\")\n",
    "        return 'Industry not available'\n",
    "\n",
    "# Read the CSV file containing the company symbols\n",
    "df = pd.read_csv('sp500_company_weightings.csv')\n",
    "\n",
    "# List to store industries\n",
    "industry_list = []\n",
    "\n",
    "# Loop through every 300 rows and process\n",
    "batch_size = 300\n",
    "for i in range(0, len(df), batch_size):\n",
    "    # Process the batch of 300 rows\n",
    "    for symbol in df['Symbol'][i:i+batch_size]:\n",
    "        industry = get_industry(symbol)\n",
    "        industry_list.append(industry)\n",
    "    \n",
    "    # After processing 300 rows, sleep for 30 seconds\n",
    "    if (i + batch_size) < len(df):  # Ensure we don't sleep after the last batch\n",
    "        print(f\"Sleeping for 30 seconds after processing rows {i+1} to {min(i+batch_size, len(df))}\")\n",
    "        time.sleep(30)\n",
    "\n",
    "# Add the \"Industry\" column to the DataFrame\n",
    "df['Industry'] = industry_list\n",
    "\n",
    "# Save the updated DataFrame with the new \"Industry\" column to a new CSV file\n",
    "df.to_csv('sp500_with_industries.csv', index=False)\n",
    "\n",
    "print(\"CSV file with industries saved successfully.\")\n"
   ]
  },
  {
   "cell_type": "code",
   "execution_count": 9,
   "metadata": {},
   "outputs": [
    {
     "name": "stdout",
     "output_type": "stream",
     "text": [
      "                                Open       High        Low  Close   Volume\n",
      "Date                                                                      \n",
      "2025-03-24 00:00:00-04:00  73.190002  73.220001  72.980003   73.0  5637000\n"
     ]
    }
   ],
   "source": [
    "import yfinance as yf\n",
    "\n",
    "# Fetch data for BND (Vanguard Total Bond Market ETF)\n",
    "bnd = yf.Ticker(\"BND\")\n",
    "\n",
    "# Get the ETF's holdings\n",
    "holdings = bnd.history(period=\"1d\", actions=False)\n",
    "\n",
    "# Print some basic information\n",
    "print(holdings)\n"
   ]
  },
  {
   "cell_type": "code",
   "execution_count": 171,
   "metadata": {},
   "outputs": [
    {
     "name": "stderr",
     "output_type": "stream",
     "text": [
      "[*********************100%***********************]  5 of 5 completed"
     ]
    },
    {
     "name": "stdout",
     "output_type": "stream",
     "text": [
      "Annual Returns for the Portfolio:\n",
      "Date\n",
      "2020-12-31    0.916691\n",
      "2021-12-31    0.520011\n",
      "2022-12-31   -0.512295\n",
      "2023-12-31    1.149191\n",
      "Freq: YE-DEC, dtype: float64\n",
      "\n",
      "Total Cumulative Return: 469.02%\n",
      "\n",
      "Average Annual Return: 41.59%\n",
      "\n",
      "Portfolio Standard Deviation: 41.69%\n",
      "\n",
      "Sharpe Ratio: 0.95\n"
     ]
    },
    {
     "name": "stderr",
     "output_type": "stream",
     "text": [
      "\n"
     ]
    }
   ],
   "source": [
    "import yfinance as yf\n",
    "import pandas as pd\n",
    "import numpy as np\n",
    "\n",
    "# Portfolio parameters\n",
    "tickers = [\"GBTC\", \"SPY\", \"SOXL\", \"VUG\", \"VOO\"]\n",
    "weights = [0.2, 0.2, 0.2, 0.2, 0.2]\n",
    "start_date = \"2019-01-01\"\n",
    "end_date = \"2023-12-31\"\n",
    "\n",
    "# Download data\n",
    "data = yf.download(tickers, start=start_date, end=end_date)\n",
    "\n",
    "if data is not None and len(data) > 0:\n",
    "    if \"Close\" in data:\n",
    "        try:\n",
    "            # Extract closing prices\n",
    "            data = data[\"Close\"]\n",
    "            \n",
    "            # Calculate returns\n",
    "            returns = data.pct_change().dropna()\n",
    "            \n",
    "            # Calculate weighted portfolio returns\n",
    "            weighted_returns = (returns * weights).sum(axis=1)\n",
    "            \n",
    "            # Cumulative returns calculation\n",
    "            cumulative_returns = (1 + weighted_returns).cumprod()\n",
    "            \n",
    "            # Annual returns\n",
    "            annual_returns = cumulative_returns.resample(\"YE\").last().pct_change().dropna()\n",
    "            print(\"Annual Returns for the Portfolio:\")\n",
    "            print(annual_returns)\n",
    "            \n",
    "            # Total cumulative return\n",
    "            total_cumulative_return = cumulative_returns.iloc[-1] - 1\n",
    "            print(f\"\\nTotal Cumulative Return: {total_cumulative_return:.2%}\")\n",
    "            \n",
    "            # Average annual return\n",
    "            average_annual_return = (cumulative_returns.iloc[-1]) ** (1 / 5) - 1\n",
    "            print(f\"\\nAverage Annual Return: {average_annual_return:.2%}\")\n",
    "            \n",
    "            # Portfolio standard deviation (annualized)\n",
    "            portfolio_std = weighted_returns.std() * np.sqrt(252)\n",
    "            print(f\"\\nPortfolio Standard Deviation: {portfolio_std:.2%}\")\n",
    "            \n",
    "            # Risk-free rate (using 3-month US Treasury Bill rate as a proxy)\n",
    "            # Note: This is a simplified approach. In practice, you'd use the actual \n",
    "            # risk-free rate for the specific time period\n",
    "            risk_free_rate = 0.02  # 2% annual risk-free rate\n",
    "            \n",
    "            # Sharpe Ratio calculation\n",
    "            sharpe_ratio = (average_annual_return - risk_free_rate) / portfolio_std\n",
    "            print(f\"\\nSharpe Ratio: {sharpe_ratio:.2f}\")\n",
    "            \n",
    "        except KeyError as e:\n",
    "            print(f\"Error: {e}\")\n",
    "            print(\"Downloaded data columns:\")\n",
    "            print(data.columns)\n",
    "    else:\n",
    "        print(\"Error: 'Close' data not found.\")\n",
    "        if data is not None:\n",
    "            print(\"Downloaded data columns:\")\n",
    "            print(data.columns)\n",
    "        else:\n",
    "            print(\"Data returned None\")\n",
    "else:\n",
    "    print(\"Error: Data download failed.\")"
   ]
  },
  {
   "cell_type": "code",
   "execution_count": 204,
   "metadata": {},
   "outputs": [
    {
     "name": "stderr",
     "output_type": "stream",
     "text": [
      "[*********************100%***********************]  5 of 5 completed"
     ]
    },
    {
     "name": "stdout",
     "output_type": "stream",
     "text": [
      "Annual Returns for the Portfolio:\n",
      "Date\n",
      "2020-12-31    0.697984\n",
      "2021-12-31    0.309216\n",
      "2022-12-31   -0.372259\n",
      "2023-12-31    0.764489\n",
      "Freq: YE-DEC, dtype: float64\n",
      "\n",
      "Total Cumulative Return: 273.45%\n",
      "\n",
      "Average Annual Return: 30.15%\n",
      "\n",
      "Portfolio Standard Deviation: 29.58%\n",
      "\n",
      "Sharpe Ratio: 0.95\n"
     ]
    },
    {
     "name": "stderr",
     "output_type": "stream",
     "text": [
      "\n"
     ]
    }
   ],
   "source": [
    "import yfinance as yf\n",
    "import pandas as pd\n",
    "import numpy as np\n",
    "\n",
    "# Portfolio parameters\n",
    "tickers = [\"GBTC\", \"SPY\", \"BRK-A\", \"VUG\", \"VOO\"]\n",
    "weights = [0, 0.25, 0.75, 0, 0]\n",
    "start_date = \"2019-01-01\"\n",
    "end_date = \"2023-12-31\"\n",
    "\n",
    "# Download data\n",
    "data = yf.download(tickers, start=start_date, end=end_date)\n",
    "\n",
    "if data is not None and len(data) > 0:\n",
    "    if \"Close\" in data:\n",
    "        try:\n",
    "            # Extract closing prices\n",
    "            data = data[\"Close\"]\n",
    "            \n",
    "            # Calculate returns\n",
    "            returns = data.pct_change().dropna()\n",
    "            \n",
    "            # Calculate weighted portfolio returns\n",
    "            weighted_returns = (returns * weights).sum(axis=1)\n",
    "            \n",
    "            # Cumulative returns calculation\n",
    "            cumulative_returns = (1 + weighted_returns).cumprod()\n",
    "            \n",
    "            # Annual returns\n",
    "            annual_returns = cumulative_returns.resample(\"YE\").last().pct_change().dropna()\n",
    "            print(\"Annual Returns for the Portfolio:\")\n",
    "            print(annual_returns)\n",
    "            \n",
    "            # Total cumulative return\n",
    "            total_cumulative_return = cumulative_returns.iloc[-1] - 1\n",
    "            print(f\"\\nTotal Cumulative Return: {total_cumulative_return:.2%}\")\n",
    "            \n",
    "            # Average annual return\n",
    "            average_annual_return = (cumulative_returns.iloc[-1]) ** (1 / 5) - 1\n",
    "            print(f\"\\nAverage Annual Return: {average_annual_return:.2%}\")\n",
    "            \n",
    "            # Portfolio standard deviation (annualized)\n",
    "            portfolio_std = weighted_returns.std() * np.sqrt(252)\n",
    "            print(f\"\\nPortfolio Standard Deviation: {portfolio_std:.2%}\")\n",
    "            \n",
    "            # Risk-free rate (using 3-month US Treasury Bill rate as a proxy)\n",
    "            # Note: This is a simplified approach. In practice, you'd use the actual \n",
    "            # risk-free rate for the specific time period\n",
    "            risk_free_rate = 0.02  # 2% annual risk-free rate\n",
    "            \n",
    "            # Sharpe Ratio calculation\n",
    "            sharpe_ratio = (average_annual_return - risk_free_rate) / portfolio_std\n",
    "            print(f\"\\nSharpe Ratio: {sharpe_ratio:.2f}\")\n",
    "            \n",
    "        except KeyError as e:\n",
    "            print(f\"Error: {e}\")\n",
    "            print(\"Downloaded data columns:\")\n",
    "            print(data.columns)\n",
    "    else:\n",
    "        print(\"Error: 'Close' data not found.\")\n",
    "        if data is not None:\n",
    "            print(\"Downloaded data columns:\")\n",
    "            print(data.columns)\n",
    "        else:\n",
    "            print(\"Data returned None\")\n",
    "else:\n",
    "    print(\"Error: Data download failed.\")"
   ]
  },
  {
   "cell_type": "code",
   "execution_count": null,
   "metadata": {},
   "outputs": [],
   "source": []
  },
  {
   "cell_type": "code",
   "execution_count": null,
   "metadata": {},
   "outputs": [],
   "source": []
  }
 ],
 "metadata": {
  "kernelspec": {
   "display_name": "Python 3 (ipykernel)",
   "language": "python",
   "name": "python3"
  },
  "language_info": {
   "codemirror_mode": {
    "name": "ipython",
    "version": 3
   },
   "file_extension": ".py",
   "mimetype": "text/x-python",
   "name": "python",
   "nbconvert_exporter": "python",
   "pygments_lexer": "ipython3",
   "version": "3.12.7"
  }
 },
 "nbformat": 4,
 "nbformat_minor": 4
}
