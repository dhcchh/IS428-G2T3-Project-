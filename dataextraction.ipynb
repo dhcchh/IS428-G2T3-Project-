{
 "cells": [
  {
   "cell_type": "code",
   "execution_count": 1,
   "metadata": {},
   "outputs": [],
   "source": [
    "from datetime import datetime\n",
    "import pandas as pd\n",
    "import yfinance as yf\n",
    "from sector_mapper import update_sectors"
   ]
  },
  {
   "cell_type": "code",
   "execution_count": 2,
   "metadata": {},
   "outputs": [
    {
     "name": "stderr",
     "output_type": "stream",
     "text": [
      "<>:3: SyntaxWarning: invalid escape sequence '\\c'\n",
      "<>:4: SyntaxWarning: invalid escape sequence '\\h'\n",
      "<>:3: SyntaxWarning: invalid escape sequence '\\c'\n",
      "<>:4: SyntaxWarning: invalid escape sequence '\\h'\n",
      "C:\\Users\\Administrator\\AppData\\Local\\Temp\\ipykernel_357808\\1281653963.py:3: SyntaxWarning: invalid escape sequence '\\c'\n",
      "  cpi = pd.read_csv('input_data\\cpi.csv')\n",
      "C:\\Users\\Administrator\\AppData\\Local\\Temp\\ipykernel_357808\\1281653963.py:4: SyntaxWarning: invalid escape sequence '\\h'\n",
      "  spy_holdings = pd.read_excel('input_data\\holdings-daily-us-en-spy.xlsx')\n"
     ]
    },
    {
     "name": "stdout",
     "output_type": "stream",
     "text": [
      "YF.download() has changed argument auto_adjust default to True\n"
     ]
    },
    {
     "name": "stderr",
     "output_type": "stream",
     "text": [
      "[*********************100%***********************]  1 of 1 completed\n"
     ]
    }
   ],
   "source": [
    "end_date = datetime.today().strftime('%Y-%m-%d')\n",
    "spy = yf.download('SPY', start='1993-01-29', end=end_date)\n",
    "cpi = pd.read_csv('input_data\\cpi.csv')\n",
    "spy_holdings = pd.read_excel('input_data\\holdings-daily-us-en-spy.xlsx')"
   ]
  },
  {
   "cell_type": "code",
   "execution_count": 3,
   "metadata": {},
   "outputs": [],
   "source": [
    "spy_holdings = update_sectors(spy_holdings)\n",
    "spy_holdings.drop(columns=['Local Currency','Identifier','SEDOL'], inplace= True)"
   ]
  },
  {
   "cell_type": "code",
   "execution_count": 4,
   "metadata": {},
   "outputs": [
    {
     "data": {
      "application/vnd.microsoft.datawrangler.viewer.v0+json": {
       "columns": [
        {
         "name": "index",
         "rawType": "int64",
         "type": "integer"
        },
        {
         "name": "Name",
         "rawType": "object",
         "type": "string"
        },
        {
         "name": "Ticker",
         "rawType": "object",
         "type": "string"
        },
        {
         "name": "Weight",
         "rawType": "float64",
         "type": "float"
        },
        {
         "name": "Sector",
         "rawType": "object",
         "type": "string"
        },
        {
         "name": "Shares Held",
         "rawType": "float64",
         "type": "float"
        }
       ],
       "conversionMethod": "pd.DataFrame",
       "ref": "e5ecd8cc-11f3-41ef-9031-651963ff38db",
       "rows": [
        [
         "0",
         "APPLE INC",
         "AAPL",
         "6.757246",
         "Information Technology",
         "190951209.0"
        ],
        [
         "1",
         "NVIDIA CORP",
         "NVDA",
         "6.04454",
         "Information Technology",
         "309877671.0"
        ],
        [
         "2",
         "MICROSOFT CORP",
         "MSFT",
         "6.003886",
         "Information Technology",
         "93921842.0"
        ],
        [
         "3",
         "AMAZON.COM INC",
         "AMZN",
         "3.868495",
         "Consumer Discretionary",
         "118221457.0"
        ],
        [
         "4",
         "META PLATFORMS INC CLASS A",
         "META",
         "2.742725",
         "Communication Services",
         "27539456.0"
        ],
        [
         "5",
         "ALPHABET INC CL A",
         "GOOGL",
         "2.027587",
         "Communication Services",
         "73814475.0"
        ],
        [
         "6",
         "BERKSHIRE HATHAWAY INC CL B",
         "BRK.B",
         "1.970585",
         "Financials",
         "23155758.0"
        ],
        [
         "7",
         "BROADCOM INC",
         "AVGO",
         "1.905539",
         "Information Technology",
         "59003310.0"
        ],
        [
         "8",
         "ALPHABET INC CL C",
         "GOOG",
         "1.671512",
         "Communication Services",
         "60123808.0"
        ],
        [
         "9",
         "TESLA INC",
         "TSLA",
         "1.433098",
         "Consumer Discretionary",
         "35281381.0"
        ],
        [
         "10",
         "JPMORGAN CHASE + CO",
         "JPM",
         "1.351717",
         "Financials",
         "35566943.0"
        ],
        [
         "11",
         "ELI LILLY + CO",
         "LLY",
         "1.346721",
         "Health Care",
         "9954115.0"
        ],
        [
         "12",
         "VISA INC CLASS A SHARES",
         "V",
         "1.210549",
         "Financials",
         "21831861.0"
        ],
        [
         "13",
         "EXXON MOBIL CORP",
         "XOM",
         "1.018346",
         "Energy",
         "55525870.0"
        ],
        [
         "14",
         "UNITEDHEALTH GROUP INC",
         "UNH",
         "0.944852",
         "Health Care",
         "11626771.0"
        ],
        [
         "15",
         "MASTERCARD INC   A",
         "MA",
         "0.908519",
         "Financials",
         "10355775.0"
        ],
        [
         "16",
         "PROCTER + GAMBLE CO/THE",
         "PG",
         "0.846561",
         "Consumer Staples",
         "29753372.0"
        ],
        [
         "17",
         "COSTCO WHOLESALE CORP",
         "COST",
         "0.841364",
         "Consumer Staples",
         "5597593.0"
        ],
        [
         "18",
         "JOHNSON + JOHNSON",
         "JNJ",
         "0.836719",
         "Health Care",
         "30417839.0"
        ],
        [
         "19",
         "NETFLIX INC",
         "NFLX",
         "0.81132",
         "Communication Services",
         "5400438.0"
        ],
        [
         "20",
         "ABBVIE INC",
         "ABBV",
         "0.797112",
         "Health Care",
         "22326264.0"
        ],
        [
         "21",
         "WALMART INC",
         "WMT",
         "0.782052",
         "Consumer Staples",
         "54838923.0"
        ],
        [
         "22",
         "HOME DEPOT INC",
         "HD",
         "0.735448",
         "Consumer Discretionary",
         "12549294.0"
        ],
        [
         "23",
         "COCA COLA CO/THE",
         "KO",
         "0.571195",
         "Consumer Staples",
         "48972608.0"
        ],
        [
         "24",
         "BANK OF AMERICA CORP",
         "BAC",
         "0.564552",
         "Financials",
         "84324120.0"
        ],
        [
         "25",
         "SALESFORCE INC",
         "CRM",
         "0.553833",
         "Information Technology",
         "12076340.0"
        ],
        [
         "26",
         "CHEVRON CORP",
         "CVX",
         "0.547286",
         "Energy",
         "21110782.0"
        ],
        [
         "27",
         "MERCK + CO. INC.",
         "MRK",
         "0.510744",
         "Health Care",
         "31953416.0"
        ],
        [
         "28",
         "CISCO SYSTEMS INC",
         "CSCO",
         "0.507037",
         "Information Technology",
         "50349335.0"
        ],
        [
         "29",
         "ORACLE CORP",
         "ORCL",
         "0.505934",
         "Information Technology",
         "20302107.0"
        ],
        [
         "30",
         "PHILIP MORRIS INTERNATIONAL",
         "PM",
         "0.498792",
         "Consumer Staples",
         "19639103.0"
        ],
        [
         "31",
         "WELLS FARGO + CO",
         "WFC",
         "0.48592",
         "Financials",
         "42056956.0"
        ],
        [
         "32",
         "INTL BUSINESS MACHINES CORP",
         "IBM",
         "0.484508",
         "Information Technology",
         "11679621.0"
        ],
        [
         "33",
         "ABBOTT LABORATORIES",
         "ABT",
         "0.48026",
         "Health Care",
         "21908380.0"
        ],
        [
         "34",
         "LINDE PLC",
         "LIN",
         "0.460087",
         "Materials",
         "6014537.0"
        ],
        [
         "35",
         "MCDONALD S CORP",
         "MCD",
         "0.454464",
         "Consumer Discretionary",
         "9051537.0"
        ],
        [
         "36",
         "GENERAL ELECTRIC",
         "GE",
         "0.443945",
         "Industrials",
         "13670626.0"
        ],
        [
         "37",
         "PEPSICO INC",
         "PEP",
         "0.433842",
         "Consumer Staples",
         "17329383.0"
        ],
        [
         "38",
         "ACCENTURE PLC CL A",
         "ACN",
         "0.422347",
         "Unknown",
         "7892666.0"
        ],
        [
         "39",
         "THERMO FISHER SCIENTIFIC INC",
         "TMO",
         "0.414618",
         "Health Care",
         "4831617.0"
        ],
        [
         "40",
         "AT+T INC",
         "T",
         "0.399209",
         "Communication Services",
         "90664291.0"
        ],
        [
         "41",
         "VERIZON COMMUNICATIONS INC",
         "VZ",
         "0.392387",
         "Communication Services",
         "53191699.0"
        ],
        [
         "42",
         "WALT DISNEY CO/THE",
         "DIS",
         "0.373951",
         "Communication Services",
         "22873633.0"
        ],
        [
         "43",
         "RTX CORP",
         "RTX",
         "0.366727",
         "Industrials",
         "16818611.0"
        ],
        [
         "44",
         "INTUITIVE SURGICAL INC",
         "ISRG",
         "0.362129",
         "Information Technology",
         "4500436.0"
        ],
        [
         "45",
         "QUALCOMM INC",
         "QCOM",
         "0.359736",
         "Information Technology",
         "14028851.0"
        ],
        [
         "46",
         "AMGEN INC",
         "AMGN",
         "0.358121",
         "Health Care",
         "6787266.0"
        ],
        [
         "47",
         "SERVICENOW INC",
         "NOW",
         "0.356545",
         "Unknown",
         "2602982.0"
        ],
        [
         "48",
         "ADOBE INC",
         "ADBE",
         "0.354564",
         "Information Technology",
         "5560270.0"
        ],
        [
         "49",
         "GOLDMAN SACHS GROUP INC",
         "GS",
         "0.351205",
         "Financials",
         "3965225.0"
        ]
       ],
       "shape": {
        "columns": 5,
        "rows": 505
       }
      },
      "text/html": [
       "<div>\n",
       "<style scoped>\n",
       "    .dataframe tbody tr th:only-of-type {\n",
       "        vertical-align: middle;\n",
       "    }\n",
       "\n",
       "    .dataframe tbody tr th {\n",
       "        vertical-align: top;\n",
       "    }\n",
       "\n",
       "    .dataframe thead th {\n",
       "        text-align: right;\n",
       "    }\n",
       "</style>\n",
       "<table border=\"1\" class=\"dataframe\">\n",
       "  <thead>\n",
       "    <tr style=\"text-align: right;\">\n",
       "      <th></th>\n",
       "      <th>Name</th>\n",
       "      <th>Ticker</th>\n",
       "      <th>Weight</th>\n",
       "      <th>Sector</th>\n",
       "      <th>Shares Held</th>\n",
       "    </tr>\n",
       "  </thead>\n",
       "  <tbody>\n",
       "    <tr>\n",
       "      <th>0</th>\n",
       "      <td>APPLE INC</td>\n",
       "      <td>AAPL</td>\n",
       "      <td>6.757246</td>\n",
       "      <td>Information Technology</td>\n",
       "      <td>1.909512e+08</td>\n",
       "    </tr>\n",
       "    <tr>\n",
       "      <th>1</th>\n",
       "      <td>NVIDIA CORP</td>\n",
       "      <td>NVDA</td>\n",
       "      <td>6.044540</td>\n",
       "      <td>Information Technology</td>\n",
       "      <td>3.098777e+08</td>\n",
       "    </tr>\n",
       "    <tr>\n",
       "      <th>2</th>\n",
       "      <td>MICROSOFT CORP</td>\n",
       "      <td>MSFT</td>\n",
       "      <td>6.003886</td>\n",
       "      <td>Information Technology</td>\n",
       "      <td>9.392184e+07</td>\n",
       "    </tr>\n",
       "    <tr>\n",
       "      <th>3</th>\n",
       "      <td>AMAZON.COM INC</td>\n",
       "      <td>AMZN</td>\n",
       "      <td>3.868495</td>\n",
       "      <td>Consumer Discretionary</td>\n",
       "      <td>1.182215e+08</td>\n",
       "    </tr>\n",
       "    <tr>\n",
       "      <th>4</th>\n",
       "      <td>META PLATFORMS INC CLASS A</td>\n",
       "      <td>META</td>\n",
       "      <td>2.742725</td>\n",
       "      <td>Communication Services</td>\n",
       "      <td>2.753946e+07</td>\n",
       "    </tr>\n",
       "    <tr>\n",
       "      <th>...</th>\n",
       "      <td>...</td>\n",
       "      <td>...</td>\n",
       "      <td>...</td>\n",
       "      <td>...</td>\n",
       "      <td>...</td>\n",
       "    </tr>\n",
       "    <tr>\n",
       "      <th>500</th>\n",
       "      <td>CELANESE CORP</td>\n",
       "      <td>CE</td>\n",
       "      <td>0.012395</td>\n",
       "      <td>Unknown</td>\n",
       "      <td>1.383364e+06</td>\n",
       "    </tr>\n",
       "    <tr>\n",
       "      <th>501</th>\n",
       "      <td>CAESARS ENTERTAINMENT INC</td>\n",
       "      <td>CZR</td>\n",
       "      <td>0.012068</td>\n",
       "      <td>Unknown</td>\n",
       "      <td>2.685071e+06</td>\n",
       "    </tr>\n",
       "    <tr>\n",
       "      <th>502</th>\n",
       "      <td>FMC CORP</td>\n",
       "      <td>FMC</td>\n",
       "      <td>0.010776</td>\n",
       "      <td>Unknown</td>\n",
       "      <td>1.581247e+06</td>\n",
       "    </tr>\n",
       "    <tr>\n",
       "      <th>503</th>\n",
       "      <td>NEWS CORP   CLASS B</td>\n",
       "      <td>NWS</td>\n",
       "      <td>0.007222</td>\n",
       "      <td>Unknown</td>\n",
       "      <td>1.421638e+06</td>\n",
       "    </tr>\n",
       "    <tr>\n",
       "      <th>504</th>\n",
       "      <td>SANDISK CORP</td>\n",
       "      <td>SNDK</td>\n",
       "      <td>0.000000</td>\n",
       "      <td>Unknown</td>\n",
       "      <td>6.650000e-01</td>\n",
       "    </tr>\n",
       "  </tbody>\n",
       "</table>\n",
       "<p>505 rows × 5 columns</p>\n",
       "</div>"
      ],
      "text/plain": [
       "                           Name Ticker    Weight                  Sector  \\\n",
       "0                     APPLE INC   AAPL  6.757246  Information Technology   \n",
       "1                   NVIDIA CORP   NVDA  6.044540  Information Technology   \n",
       "2                MICROSOFT CORP   MSFT  6.003886  Information Technology   \n",
       "3                AMAZON.COM INC   AMZN  3.868495  Consumer Discretionary   \n",
       "4    META PLATFORMS INC CLASS A   META  2.742725  Communication Services   \n",
       "..                          ...    ...       ...                     ...   \n",
       "500               CELANESE CORP     CE  0.012395                 Unknown   \n",
       "501   CAESARS ENTERTAINMENT INC    CZR  0.012068                 Unknown   \n",
       "502                    FMC CORP    FMC  0.010776                 Unknown   \n",
       "503         NEWS CORP   CLASS B    NWS  0.007222                 Unknown   \n",
       "504                SANDISK CORP   SNDK  0.000000                 Unknown   \n",
       "\n",
       "      Shares Held  \n",
       "0    1.909512e+08  \n",
       "1    3.098777e+08  \n",
       "2    9.392184e+07  \n",
       "3    1.182215e+08  \n",
       "4    2.753946e+07  \n",
       "..            ...  \n",
       "500  1.383364e+06  \n",
       "501  2.685071e+06  \n",
       "502  1.581247e+06  \n",
       "503  1.421638e+06  \n",
       "504  6.650000e-01  \n",
       "\n",
       "[505 rows x 5 columns]"
      ]
     },
     "execution_count": 4,
     "metadata": {},
     "output_type": "execute_result"
    }
   ],
   "source": [
    "spy_holdings"
   ]
  },
  {
   "cell_type": "code",
   "execution_count": 5,
   "metadata": {},
   "outputs": [
    {
     "name": "stdout",
     "output_type": "stream",
     "text": [
      "MultiIndex([( 'Close', 'SPY'),\n",
      "            (  'High', 'SPY'),\n",
      "            (   'Low', 'SPY'),\n",
      "            (  'Open', 'SPY'),\n",
      "            ('Volume', 'SPY')],\n",
      "           names=['Price', 'Ticker'])\n"
     ]
    }
   ],
   "source": [
    "print(spy.columns)\n",
    "spy = spy.droplevel('Ticker', axis=1)"
   ]
  },
  {
   "cell_type": "code",
   "execution_count": 6,
   "metadata": {},
   "outputs": [],
   "source": [
    "cpi = cpi.rename(columns={\"DATE\": \"date\", \"CPIAUCSL\": \"cpi_value\"})\n",
    "cpi[\"date\"] = pd.to_datetime(cpi[\"date\"])\n",
    "cpi[\"cpi_value\"] = cpi[\"cpi_value\"].astype(float).round(2)\n",
    "cpi.reset_index(inplace=True, drop=True)\n",
    "cpi = cpi[(cpi[\"date\"] >= \"2000-01-01\")]\n",
    "\n",
    "spy.reset_index(inplace=True)\n",
    "spy = spy.rename(columns={\"Close\": \"close_price\", \"Date\": \"date\"})\n",
    "spy[\"date\"] = pd.to_datetime(spy[\"date\"])\n",
    "spy[\"close_price\"] = spy[\"close_price\"].round(2)\n",
    "spy.drop(columns=[\"High\",\"Low\",\"Open\",\"Volume\"], inplace=True)"
   ]
  },
  {
   "cell_type": "code",
   "execution_count": 7,
   "metadata": {},
   "outputs": [
    {
     "data": {
      "application/vnd.microsoft.datawrangler.viewer.v0+json": {
       "columns": [
        {
         "name": "index",
         "rawType": "int64",
         "type": "integer"
        },
        {
         "name": "date",
         "rawType": "datetime64[ns]",
         "type": "datetime"
        },
        {
         "name": "close_price",
         "rawType": "float64",
         "type": "float"
        }
       ],
       "conversionMethod": "pd.DataFrame",
       "ref": "2e1a3927-1943-419a-8eb7-802d663f036b",
       "rows": [
        [
         "0",
         "1993-01-29 00:00:00",
         "24.53"
        ],
        [
         "1",
         "1993-02-01 00:00:00",
         "24.7"
        ],
        [
         "2",
         "1993-02-02 00:00:00",
         "24.75"
        ],
        [
         "3",
         "1993-02-03 00:00:00",
         "25.01"
        ],
        [
         "4",
         "1993-02-04 00:00:00",
         "25.12"
        ],
        [
         "5",
         "1993-02-05 00:00:00",
         "25.1"
        ],
        [
         "6",
         "1993-02-08 00:00:00",
         "25.1"
        ],
        [
         "7",
         "1993-02-09 00:00:00",
         "24.93"
        ],
        [
         "8",
         "1993-02-10 00:00:00",
         "24.96"
        ],
        [
         "9",
         "1993-02-11 00:00:00",
         "25.08"
        ],
        [
         "10",
         "1993-02-12 00:00:00",
         "24.89"
        ],
        [
         "11",
         "1993-02-16 00:00:00",
         "24.26"
        ],
        [
         "12",
         "1993-02-17 00:00:00",
         "24.25"
        ],
        [
         "13",
         "1993-02-18 00:00:00",
         "24.23"
        ],
        [
         "14",
         "1993-02-19 00:00:00",
         "24.32"
        ],
        [
         "15",
         "1993-02-22 00:00:00",
         "24.4"
        ],
        [
         "16",
         "1993-02-23 00:00:00",
         "24.39"
        ],
        [
         "17",
         "1993-02-24 00:00:00",
         "24.7"
        ],
        [
         "18",
         "1993-02-25 00:00:00",
         "24.75"
        ],
        [
         "19",
         "1993-02-26 00:00:00",
         "24.79"
        ],
        [
         "20",
         "1993-03-01 00:00:00",
         "24.72"
        ],
        [
         "21",
         "1993-03-02 00:00:00",
         "25.08"
        ],
        [
         "22",
         "1993-03-03 00:00:00",
         "25.19"
        ],
        [
         "23",
         "1993-03-04 00:00:00",
         "25.05"
        ],
        [
         "24",
         "1993-03-05 00:00:00",
         "24.98"
        ],
        [
         "25",
         "1993-03-08 00:00:00",
         "25.54"
        ],
        [
         "26",
         "1993-03-09 00:00:00",
         "25.45"
        ],
        [
         "27",
         "1993-03-10 00:00:00",
         "25.5"
        ],
        [
         "28",
         "1993-03-11 00:00:00",
         "25.43"
        ],
        [
         "29",
         "1993-03-12 00:00:00",
         "25.17"
        ],
        [
         "30",
         "1993-03-15 00:00:00",
         "25.29"
        ],
        [
         "31",
         "1993-03-16 00:00:00",
         "25.29"
        ],
        [
         "32",
         "1993-03-17 00:00:00",
         "25.14"
        ],
        [
         "33",
         "1993-03-18 00:00:00",
         "25.29"
        ],
        [
         "34",
         "1993-03-19 00:00:00",
         "25.26"
        ],
        [
         "35",
         "1993-03-22 00:00:00",
         "25.12"
        ],
        [
         "36",
         "1993-03-23 00:00:00",
         "25.17"
        ],
        [
         "37",
         "1993-03-24 00:00:00",
         "25.17"
        ],
        [
         "38",
         "1993-03-25 00:00:00",
         "25.33"
        ],
        [
         "39",
         "1993-03-26 00:00:00",
         "25.19"
        ],
        [
         "40",
         "1993-03-29 00:00:00",
         "25.29"
        ],
        [
         "41",
         "1993-03-30 00:00:00",
         "25.36"
        ],
        [
         "42",
         "1993-03-31 00:00:00",
         "25.34"
        ],
        [
         "43",
         "1993-04-01 00:00:00",
         "25.26"
        ],
        [
         "44",
         "1993-04-02 00:00:00",
         "24.73"
        ],
        [
         "45",
         "1993-04-05 00:00:00",
         "24.85"
        ],
        [
         "46",
         "1993-04-06 00:00:00",
         "24.78"
        ],
        [
         "47",
         "1993-04-07 00:00:00",
         "24.87"
        ],
        [
         "48",
         "1993-04-08 00:00:00",
         "24.83"
        ],
        [
         "49",
         "1993-04-12 00:00:00",
         "25.19"
        ]
       ],
       "shape": {
        "columns": 2,
        "rows": 8087
       }
      },
      "text/html": [
       "<div>\n",
       "<style scoped>\n",
       "    .dataframe tbody tr th:only-of-type {\n",
       "        vertical-align: middle;\n",
       "    }\n",
       "\n",
       "    .dataframe tbody tr th {\n",
       "        vertical-align: top;\n",
       "    }\n",
       "\n",
       "    .dataframe thead th {\n",
       "        text-align: right;\n",
       "    }\n",
       "</style>\n",
       "<table border=\"1\" class=\"dataframe\">\n",
       "  <thead>\n",
       "    <tr style=\"text-align: right;\">\n",
       "      <th>Price</th>\n",
       "      <th>date</th>\n",
       "      <th>close_price</th>\n",
       "    </tr>\n",
       "  </thead>\n",
       "  <tbody>\n",
       "    <tr>\n",
       "      <th>0</th>\n",
       "      <td>1993-01-29</td>\n",
       "      <td>24.53</td>\n",
       "    </tr>\n",
       "    <tr>\n",
       "      <th>1</th>\n",
       "      <td>1993-02-01</td>\n",
       "      <td>24.70</td>\n",
       "    </tr>\n",
       "    <tr>\n",
       "      <th>2</th>\n",
       "      <td>1993-02-02</td>\n",
       "      <td>24.75</td>\n",
       "    </tr>\n",
       "    <tr>\n",
       "      <th>3</th>\n",
       "      <td>1993-02-03</td>\n",
       "      <td>25.01</td>\n",
       "    </tr>\n",
       "    <tr>\n",
       "      <th>4</th>\n",
       "      <td>1993-02-04</td>\n",
       "      <td>25.12</td>\n",
       "    </tr>\n",
       "    <tr>\n",
       "      <th>...</th>\n",
       "      <td>...</td>\n",
       "      <td>...</td>\n",
       "    </tr>\n",
       "    <tr>\n",
       "      <th>8082</th>\n",
       "      <td>2025-03-10</td>\n",
       "      <td>560.58</td>\n",
       "    </tr>\n",
       "    <tr>\n",
       "      <th>8083</th>\n",
       "      <td>2025-03-11</td>\n",
       "      <td>555.92</td>\n",
       "    </tr>\n",
       "    <tr>\n",
       "      <th>8084</th>\n",
       "      <td>2025-03-12</td>\n",
       "      <td>558.87</td>\n",
       "    </tr>\n",
       "    <tr>\n",
       "      <th>8085</th>\n",
       "      <td>2025-03-13</td>\n",
       "      <td>551.42</td>\n",
       "    </tr>\n",
       "    <tr>\n",
       "      <th>8086</th>\n",
       "      <td>2025-03-14</td>\n",
       "      <td>562.81</td>\n",
       "    </tr>\n",
       "  </tbody>\n",
       "</table>\n",
       "<p>8087 rows × 2 columns</p>\n",
       "</div>"
      ],
      "text/plain": [
       "Price       date  close_price\n",
       "0     1993-01-29        24.53\n",
       "1     1993-02-01        24.70\n",
       "2     1993-02-02        24.75\n",
       "3     1993-02-03        25.01\n",
       "4     1993-02-04        25.12\n",
       "...          ...          ...\n",
       "8082  2025-03-10       560.58\n",
       "8083  2025-03-11       555.92\n",
       "8084  2025-03-12       558.87\n",
       "8085  2025-03-13       551.42\n",
       "8086  2025-03-14       562.81\n",
       "\n",
       "[8087 rows x 2 columns]"
      ]
     },
     "execution_count": 7,
     "metadata": {},
     "output_type": "execute_result"
    }
   ],
   "source": [
    "spy"
   ]
  },
  {
   "cell_type": "code",
   "execution_count": 8,
   "metadata": {},
   "outputs": [
    {
     "data": {
      "application/vnd.microsoft.datawrangler.viewer.v0+json": {
       "columns": [
        {
         "name": "index",
         "rawType": "int64",
         "type": "integer"
        },
        {
         "name": "date",
         "rawType": "datetime64[ns]",
         "type": "datetime"
        },
        {
         "name": "cpi_value",
         "rawType": "float64",
         "type": "float"
        }
       ],
       "conversionMethod": "pd.DataFrame",
       "ref": "6f0bae49-0714-4ae0-aba4-75dc4315597f",
       "rows": [
        [
         "636",
         "2000-01-01 00:00:00",
         "169.3"
        ],
        [
         "637",
         "2000-02-01 00:00:00",
         "170.0"
        ],
        [
         "638",
         "2000-03-01 00:00:00",
         "171.0"
        ],
        [
         "639",
         "2000-04-01 00:00:00",
         "170.9"
        ],
        [
         "640",
         "2000-05-01 00:00:00",
         "171.2"
        ],
        [
         "641",
         "2000-06-01 00:00:00",
         "172.2"
        ],
        [
         "642",
         "2000-07-01 00:00:00",
         "172.7"
        ],
        [
         "643",
         "2000-08-01 00:00:00",
         "172.7"
        ],
        [
         "644",
         "2000-09-01 00:00:00",
         "173.6"
        ],
        [
         "645",
         "2000-10-01 00:00:00",
         "173.9"
        ],
        [
         "646",
         "2000-11-01 00:00:00",
         "174.2"
        ],
        [
         "647",
         "2000-12-01 00:00:00",
         "174.6"
        ],
        [
         "648",
         "2001-01-01 00:00:00",
         "175.6"
        ],
        [
         "649",
         "2001-02-01 00:00:00",
         "176.0"
        ],
        [
         "650",
         "2001-03-01 00:00:00",
         "176.1"
        ],
        [
         "651",
         "2001-04-01 00:00:00",
         "176.4"
        ],
        [
         "652",
         "2001-05-01 00:00:00",
         "177.3"
        ],
        [
         "653",
         "2001-06-01 00:00:00",
         "177.7"
        ],
        [
         "654",
         "2001-07-01 00:00:00",
         "177.4"
        ],
        [
         "655",
         "2001-08-01 00:00:00",
         "177.4"
        ],
        [
         "656",
         "2001-09-01 00:00:00",
         "178.1"
        ],
        [
         "657",
         "2001-10-01 00:00:00",
         "177.6"
        ],
        [
         "658",
         "2001-11-01 00:00:00",
         "177.5"
        ],
        [
         "659",
         "2001-12-01 00:00:00",
         "177.4"
        ],
        [
         "660",
         "2002-01-01 00:00:00",
         "177.7"
        ],
        [
         "661",
         "2002-02-01 00:00:00",
         "178.0"
        ],
        [
         "662",
         "2002-03-01 00:00:00",
         "178.5"
        ],
        [
         "663",
         "2002-04-01 00:00:00",
         "179.3"
        ],
        [
         "664",
         "2002-05-01 00:00:00",
         "179.5"
        ],
        [
         "665",
         "2002-06-01 00:00:00",
         "179.6"
        ],
        [
         "666",
         "2002-07-01 00:00:00",
         "180.0"
        ],
        [
         "667",
         "2002-08-01 00:00:00",
         "180.5"
        ],
        [
         "668",
         "2002-09-01 00:00:00",
         "180.8"
        ],
        [
         "669",
         "2002-10-01 00:00:00",
         "181.2"
        ],
        [
         "670",
         "2002-11-01 00:00:00",
         "181.5"
        ],
        [
         "671",
         "2002-12-01 00:00:00",
         "181.8"
        ],
        [
         "672",
         "2003-01-01 00:00:00",
         "182.6"
        ],
        [
         "673",
         "2003-02-01 00:00:00",
         "183.6"
        ],
        [
         "674",
         "2003-03-01 00:00:00",
         "183.9"
        ],
        [
         "675",
         "2003-04-01 00:00:00",
         "183.2"
        ],
        [
         "676",
         "2003-05-01 00:00:00",
         "182.9"
        ],
        [
         "677",
         "2003-06-01 00:00:00",
         "183.1"
        ],
        [
         "678",
         "2003-07-01 00:00:00",
         "183.7"
        ],
        [
         "679",
         "2003-08-01 00:00:00",
         "184.5"
        ],
        [
         "680",
         "2003-09-01 00:00:00",
         "185.1"
        ],
        [
         "681",
         "2003-10-01 00:00:00",
         "184.9"
        ],
        [
         "682",
         "2003-11-01 00:00:00",
         "185.0"
        ],
        [
         "683",
         "2003-12-01 00:00:00",
         "185.5"
        ],
        [
         "684",
         "2004-01-01 00:00:00",
         "186.3"
        ],
        [
         "685",
         "2004-02-01 00:00:00",
         "186.7"
        ]
       ],
       "shape": {
        "columns": 2,
        "rows": 298
       }
      },
      "text/html": [
       "<div>\n",
       "<style scoped>\n",
       "    .dataframe tbody tr th:only-of-type {\n",
       "        vertical-align: middle;\n",
       "    }\n",
       "\n",
       "    .dataframe tbody tr th {\n",
       "        vertical-align: top;\n",
       "    }\n",
       "\n",
       "    .dataframe thead th {\n",
       "        text-align: right;\n",
       "    }\n",
       "</style>\n",
       "<table border=\"1\" class=\"dataframe\">\n",
       "  <thead>\n",
       "    <tr style=\"text-align: right;\">\n",
       "      <th></th>\n",
       "      <th>date</th>\n",
       "      <th>cpi_value</th>\n",
       "    </tr>\n",
       "  </thead>\n",
       "  <tbody>\n",
       "    <tr>\n",
       "      <th>636</th>\n",
       "      <td>2000-01-01</td>\n",
       "      <td>169.30</td>\n",
       "    </tr>\n",
       "    <tr>\n",
       "      <th>637</th>\n",
       "      <td>2000-02-01</td>\n",
       "      <td>170.00</td>\n",
       "    </tr>\n",
       "    <tr>\n",
       "      <th>638</th>\n",
       "      <td>2000-03-01</td>\n",
       "      <td>171.00</td>\n",
       "    </tr>\n",
       "    <tr>\n",
       "      <th>639</th>\n",
       "      <td>2000-04-01</td>\n",
       "      <td>170.90</td>\n",
       "    </tr>\n",
       "    <tr>\n",
       "      <th>640</th>\n",
       "      <td>2000-05-01</td>\n",
       "      <td>171.20</td>\n",
       "    </tr>\n",
       "    <tr>\n",
       "      <th>...</th>\n",
       "      <td>...</td>\n",
       "      <td>...</td>\n",
       "    </tr>\n",
       "    <tr>\n",
       "      <th>929</th>\n",
       "      <td>2024-06-01</td>\n",
       "      <td>313.05</td>\n",
       "    </tr>\n",
       "    <tr>\n",
       "      <th>930</th>\n",
       "      <td>2024-07-01</td>\n",
       "      <td>313.53</td>\n",
       "    </tr>\n",
       "    <tr>\n",
       "      <th>931</th>\n",
       "      <td>2024-08-01</td>\n",
       "      <td>314.12</td>\n",
       "    </tr>\n",
       "    <tr>\n",
       "      <th>932</th>\n",
       "      <td>2024-09-01</td>\n",
       "      <td>314.69</td>\n",
       "    </tr>\n",
       "    <tr>\n",
       "      <th>933</th>\n",
       "      <td>2024-10-01</td>\n",
       "      <td>315.45</td>\n",
       "    </tr>\n",
       "  </tbody>\n",
       "</table>\n",
       "<p>298 rows × 2 columns</p>\n",
       "</div>"
      ],
      "text/plain": [
       "          date  cpi_value\n",
       "636 2000-01-01     169.30\n",
       "637 2000-02-01     170.00\n",
       "638 2000-03-01     171.00\n",
       "639 2000-04-01     170.90\n",
       "640 2000-05-01     171.20\n",
       "..         ...        ...\n",
       "929 2024-06-01     313.05\n",
       "930 2024-07-01     313.53\n",
       "931 2024-08-01     314.12\n",
       "932 2024-09-01     314.69\n",
       "933 2024-10-01     315.45\n",
       "\n",
       "[298 rows x 2 columns]"
      ]
     },
     "execution_count": 8,
     "metadata": {},
     "output_type": "execute_result"
    }
   ],
   "source": [
    "cpi"
   ]
  },
  {
   "cell_type": "markdown",
   "metadata": {},
   "source": [
    "# Inflation-Adjusting SPY Prices\n",
    "\n",
    "This code performs several key steps to create inflation-adjusted (real) prices for the S&P 500 ETF (SPY):\n",
    "\n",
    "1. **Creating an adjustment factor**: \n",
    "   ```python\n",
    "   cpi[\"adj_fac\"] = cpi[\"cpi_value\"] / cpi[\"cpi_value\"].iloc[0]\n",
    "   ```\n",
    "   This calculates an inflation adjustment factor by dividing each CPI value by the first CPI value in the dataset, creating a ratio that represents how prices have changed relative to the base period.\n",
    "\n",
    "2. **Creating a complete date range**:\n",
    "   ```python\n",
    "   date_range = pd.date_range(start=spy[\"date\"].min(), end=spy[\"date\"].max(), freq=\"D\")\n",
    "   full_date_df = pd.DataFrame({\"date\": date_range})\n",
    "   ```\n",
    "   This builds a continuous daily date range spanning the entire SPY dataset period.\n",
    "\n",
    "3. **Merging SPY data with complete date range**:\n",
    "   ```python\n",
    "   spy_full = full_date_df.merge(spy, on=\"date\", how=\"left\")\n",
    "   ```\n",
    "   This ensures all calendar days are included, even non-trading days.\n",
    "\n",
    "4. **Merging with CPI (inflation) data**:\n",
    "   ```python\n",
    "   merged_df = spy_full.merge(cpi, on=\"date\", how=\"left\")\n",
    "   ```\n",
    "   This combines the SPY price data with the CPI data.\n",
    "\n",
    "5. **Handling missing values**:\n",
    "   ```python\n",
    "   merged_df[\"close\"] = merged_df[\"close\"].ffill()\n",
    "   merged_df[\"adj_fac\"] = merged_df[\"adj_fac\"].ffill()\n",
    "   ```\n",
    "   Forward-filling missing values ensures continuous data for non-trading days and potentially monthly CPI values.\n",
    "\n",
    "6. **Calculating real (inflation-adjusted) prices**:\n",
    "   ```python\n",
    "   merged_df[\"real_price\"] = merged_df[\"close\"] / merged_df[\"adj_fac\"]\n",
    "   ```\n",
    "   This adjusts the nominal SPY prices for inflation by dividing by the adjustment factor.\n",
    "\n",
    "7. **Cleaning the dataset**:\n",
    "   ```python\n",
    "   merged_df = merged_df.dropna(subset=[\"close\", \"adj_fac\"])\n",
    "   merged_df = merged_df.reset_index(drop=True)\n",
    "   merged_df = merged_df.dropna(subset=[\"cpi_value\"])\n",
    "   ```\n",
    "   This removes any rows with missing critical values and resets the index for consistency."
   ]
  },
  {
   "cell_type": "code",
   "execution_count": 9,
   "metadata": {},
   "outputs": [
    {
     "name": "stdout",
     "output_type": "stream",
     "text": [
      "          date  close_price  cpi_value   adj_fac  real_price\n",
      "0   2000-01-01        93.61      169.3  1.000000   93.610000\n",
      "31  2000-02-01        89.82      170.0  1.004135   89.450153\n",
      "60  2000-03-01        88.23      171.0  1.010041   87.352860\n",
      "91  2000-04-01        96.08      170.9  1.009451   95.180480\n",
      "121 2000-05-01        93.97      171.2  1.011223   92.927109\n"
     ]
    }
   ],
   "source": [
    "cpi[\"adj_fac\"] = cpi[\"cpi_value\"] / cpi[\"cpi_value\"].iloc[0]\n",
    "\n",
    "date_range = pd.date_range(start=spy[\"date\"].min(), end=spy[\"date\"].max(), freq=\"D\")\n",
    "full_date_df = pd.DataFrame({\"date\": date_range})\n",
    "\n",
    "# Merge SPY with the full date range to include all days\n",
    "spy_full = full_date_df.merge(spy, on=\"date\", how=\"left\")\n",
    "\n",
    "# Merge SPY data with CPI data\n",
    "merged_df = spy_full.merge(cpi, on=\"date\", how=\"left\")\n",
    "\n",
    "# Forward-fill missing values in both CPI and SPY data\n",
    "merged_df[\"close_price\"] = merged_df[\"close_price\"].ffill()  # SPY closing prices\n",
    "merged_df[\"adj_fac\"] = merged_df[\"adj_fac\"].ffill()  # Inflation adjustment factor\n",
    "\n",
    "# Calculate real_price (inflation-adjusted SPY price)\n",
    "merged_df[\"real_price\"] = merged_df[\"close_price\"] / merged_df[\"adj_fac\"]\n",
    "\n",
    "# Drop rows with any remaining missing critical values\n",
    "merged_df = merged_df.dropna(subset=[\"close_price\", \"adj_fac\"])\n",
    "\n",
    "# Reset index for consistency\n",
    "merged_df = merged_df.reset_index(drop=True)\n",
    "merged_df = merged_df.dropna(subset=[\"cpi_value\"])\n",
    "\n",
    "# Display the first few rows of the merged DataFrame\n",
    "print(merged_df.head())"
   ]
  },
  {
   "cell_type": "code",
   "execution_count": 10,
   "metadata": {},
   "outputs": [
    {
     "name": "stdout",
     "output_type": "stream",
     "text": [
      "          date  close_price  cpi_value   adj_fac  real_price  nominal_inv_10k  \\\n",
      "0   2000-01-01        93.61      169.3  1.000000   93.610000     10000.000000   \n",
      "31  2000-02-01        89.82      170.0  1.004135   89.450153      9595.128726   \n",
      "60  2000-03-01        88.23      171.0  1.010041   87.352860      9425.275077   \n",
      "91  2000-04-01        96.08      170.9  1.009451   95.180480     10263.860699   \n",
      "121 2000-05-01        93.97      171.2  1.011223   92.927109     10038.457430   \n",
      "\n",
      "     real_inv_10k  \n",
      "0    10000.000000  \n",
      "31    9555.619372  \n",
      "60    9331.573512  \n",
      "91   10167.768381  \n",
      "121   9927.049316  \n"
     ]
    }
   ],
   "source": [
    "initial_investment = 10000\n",
    "\n",
    "# Calculate nominal and real investment values\n",
    "nominal_inv_10k = (merged_df[\"close_price\"] / merged_df[\"close_price\"].iloc[0]) * initial_investment\n",
    "real_inv_10k = (merged_df[\"real_price\"] / merged_df[\"real_price\"].iloc[0]) * initial_investment\n",
    "\n",
    "# Add calculated values to the merged DataFrame\n",
    "merged_df[\"nominal_inv_10k\"] = nominal_inv_10k\n",
    "merged_df[\"real_inv_10k\"] = real_inv_10k\n",
    "\n",
    "print(merged_df.head(5))"
   ]
  },
  {
   "cell_type": "code",
   "execution_count": 11,
   "metadata": {},
   "outputs": [
    {
     "name": "stdout",
     "output_type": "stream",
     "text": [
      "                   Sector  Percentage\n",
      "0  Information Technology       30.39\n",
      "1              Financials       14.22\n",
      "2             Health Care       11.20\n",
      "3  Consumer Discretionary       10.11\n",
      "4  Communication Services        9.45\n"
     ]
    }
   ],
   "source": [
    "sector_allocation = {\n",
    "    'Information Technology': 30.39,\n",
    "    'Financials': 14.22,\n",
    "    'Health Care': 11.20,\n",
    "    'Consumer Discretionary': 10.11,\n",
    "    'Communication Services': 9.45,\n",
    "    'Industrials': 8.45,\n",
    "    'Consumer Staples': 5.97,\n",
    "    'Energy': 3.42,\n",
    "    'Utilities': 2.52,\n",
    "    'Real Estate': 2.23,\n",
    "    'Materials': 2.05\n",
    "}\n",
    "\n",
    "spy_sector = pd.DataFrame(list(sector_allocation.items()), columns=['Sector', 'Percentage'])\n",
    "print(spy_sector.head(5))"
   ]
  },
  {
   "cell_type": "code",
   "execution_count": 12,
   "metadata": {},
   "outputs": [],
   "source": [
    "import os \n",
    "os.chdir('output_data')"
   ]
  },
  {
   "cell_type": "code",
   "execution_count": 13,
   "metadata": {},
   "outputs": [],
   "source": [
    "spy_sector.to_csv('spy_sectors.csv')\n",
    "merged_df.to_csv('spy_inflation.csv', index=False)\n",
    "spy_holdings.to_csv('spy_share_allocation.csv', index=False)"
   ]
  }
 ],
 "metadata": {
  "kernelspec": {
   "display_name": "Python 3",
   "language": "python",
   "name": "python3"
  },
  "language_info": {
   "codemirror_mode": {
    "name": "ipython",
    "version": 3
   },
   "file_extension": ".py",
   "mimetype": "text/x-python",
   "name": "python",
   "nbconvert_exporter": "python",
   "pygments_lexer": "ipython3",
   "version": "3.13.1"
  }
 },
 "nbformat": 4,
 "nbformat_minor": 2
}
