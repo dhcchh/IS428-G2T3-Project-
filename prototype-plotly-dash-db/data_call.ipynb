{
 "cells": [
  {
   "cell_type": "code",
   "execution_count": 1,
   "metadata": {},
   "outputs": [
    {
     "name": "stdout",
     "output_type": "stream",
     "text": [
      "Downloading data for SPY, BND, VTIP, VXUS\n",
      "Date range: 2015-01-01 to 2025-03-28\n",
      "YF.download() has changed argument auto_adjust default to True\n",
      "Downloaded 2574 days of data\n",
      "Date range: 2015-01-02 to 2025-03-27\n",
      "\n",
      "Price data preview:\n",
      "Ticker            BND         SPY       VTIP       VXUS\n",
      "Date                                                   \n",
      "2015-01-02  62.387085  172.075241  37.784847  35.671608\n",
      "2015-01-05  62.568203  168.967651  37.745762  34.887291\n",
      "2015-01-06  62.749416  167.376129  37.659767  34.620907\n",
      "2015-01-07  62.787170  169.461792  37.722305  35.027870\n",
      "2015-01-08  62.689049  172.468887  37.769222  35.471825\n",
      "\n",
      "Data exported to etf_data_for_tableau.csv\n"
     ]
    }
   ],
   "source": [
    "import pandas as pd\n",
    "import yfinance as yf\n",
    "from datetime import datetime\n",
    "\n",
    "# Define ETF tickers\n",
    "tickers = ['SPY', 'BND', 'VTIP', 'VXUS']\n",
    "\n",
    "# Define date range\n",
    "start_date = '2015-01-01'\n",
    "end_date = '2025-03-28'  # Will automatically get data up to today\n",
    "\n",
    "# Download data\n",
    "print(f\"Downloading data for {', '.join(tickers)}\")\n",
    "print(f\"Date range: {start_date} to {end_date}\")\n",
    "\n",
    "# Download all tickers at once\n",
    "data = yf.download(tickers, start=start_date, end=end_date, progress=False)\n",
    "\n",
    "# Extract just the 'Close' prices\n",
    "prices = data['Close']\n",
    "\n",
    "# Check the data\n",
    "print(f\"Downloaded {len(prices)} days of data\")\n",
    "print(f\"Date range: {prices.index.min().strftime('%Y-%m-%d')} to {prices.index.max().strftime('%Y-%m-%d')}\")\n",
    "\n",
    "# Preview the data\n",
    "print(\"\\nPrice data preview:\")\n",
    "print(prices.head())\n",
    "\n",
    "# Save to CSV\n",
    "csv_filename = 'etf_data_for_tableau.csv'\n",
    "prices.reset_index().to_csv(csv_filename, index=False)\n",
    "print(f\"\\nData exported to {csv_filename}\")\n",
    "\n",
    "# Check for any missing values\n",
    "missing = prices.isna().sum()\n",
    "if missing.sum() > 0:\n",
    "    print(\"\\nWarning: Missing values detected:\")\n",
    "    print(missing[missing > 0])"
   ]
  }
 ],
 "metadata": {
  "kernelspec": {
   "display_name": "Python 3",
   "language": "python",
   "name": "python3"
  },
  "language_info": {
   "codemirror_mode": {
    "name": "ipython",
    "version": 3
   },
   "file_extension": ".py",
   "mimetype": "text/x-python",
   "name": "python",
   "nbconvert_exporter": "python",
   "pygments_lexer": "ipython3",
   "version": "3.13.1"
  }
 },
 "nbformat": 4,
 "nbformat_minor": 2
}
